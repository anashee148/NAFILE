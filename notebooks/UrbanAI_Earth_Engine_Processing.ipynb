{
 "cells": [
  {
   "cell_type": "markdown",
   "id": "5e267df6",
   "metadata": {},
   "source": [
    "# 🌍 UrbanAI - Climate-Adaptive Urban Digital Twin\n",
    "## NASA Earth Engine Data Processing Pipeline\n",
    "\n",
    "**Space Apps 2025 - Real NASA Data Integration**\n",
    "\n",
    "This notebook demonstrates the complete data pipeline for UrbanAI, processing real NASA satellite data for urban climate impact analysis.\n",
    "\n",
    "### 🛰️ Datasets Used:\n",
    "- **GPM IMERG** - Precipitation monitoring\n",
    "- **MODIS LST** - Land Surface Temperature  \n",
    "- **SRTM** - 30m Elevation data\n",
    "- **SMAP** - Soil moisture\n",
    "- **WorldPop** - Population density\n",
    "- **VIIRS DNB** - Nighttime lights\n",
    "\n",
    "### 🎯 Outputs:\n",
    "- Climate impact metrics\n",
    "- Hydrological modeling (SCS Curve Number)\n",
    "- Population exposure analysis\n",
    "- Heat stress indicators"
   ]
  },
  {
   "cell_type": "code",
   "execution_count": null,
   "id": "fb9e0d19",
   "metadata": {},
   "outputs": [],
   "source": [
    "# Install required packages\n",
    "!pip install earthengine-api\n",
    "!pip install folium\n",
    "!pip install geopandas\n",
    "\n",
    "import ee\n",
    "import folium\n",
    "import json\n",
    "import pandas as pd\n",
    "import numpy as np\n",
    "from datetime import datetime, timedelta\n",
    "import matplotlib.pyplot as plt\n",
    "import seaborn as sns\n",
    "\n",
    "print(\"✅ Libraries imported successfully\")"
   ]
  }
 ],
 "metadata": {
  "language_info": {
   "name": "python"
  }
 },
 "nbformat": 4,
 "nbformat_minor": 5
}
